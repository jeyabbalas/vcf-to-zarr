{
 "cells": [
  {
   "cell_type": "code",
   "execution_count": 1,
   "id": "aa86e10b",
   "metadata": {},
   "outputs": [],
   "source": [
    "import os\n",
    "import sys\n",
    "\n",
    "import allel\n",
    "import dask.array as da\n",
    "import numcodecs\n",
    "import numpy as np\n",
    "import requests\n",
    "import zarr"
   ]
  },
  {
   "cell_type": "code",
   "execution_count": 2,
   "id": "3cab5595",
   "metadata": {},
   "outputs": [],
   "source": [
    "url_toy_vcf = \"https://raw.githubusercontent.com/samtools/hts-specs/master/examples/vcf/simple.vcf\""
   ]
  },
  {
   "cell_type": "code",
   "execution_count": 3,
   "id": "5d2d6e5c-8dbe-48a2-9f41-6ef7e340826b",
   "metadata": {},
   "outputs": [],
   "source": [
    "outdir = \"data/\""
   ]
  },
  {
   "cell_type": "code",
   "execution_count": 4,
   "id": "c950efaf-9d0b-4182-adcb-b4f4855c7ee0",
   "metadata": {},
   "outputs": [],
   "source": [
    "os.makedirs(outdir, exist_ok=True)\n",
    "fname_simple_zarr = os.path.join(outdir, \"toy.zarr\")"
   ]
  },
  {
   "cell_type": "code",
   "execution_count": 5,
   "id": "561a648d-4e09-4d95-9033-ef095502fe3f",
   "metadata": {},
   "outputs": [],
   "source": [
    "response = requests.get(url_toy_vcf, stream=True)\n",
    "response.raw.decode_content = True"
   ]
  },
  {
   "cell_type": "code",
   "execution_count": 6,
   "id": "39853f38-8a72-440b-b8f3-0f970f71d47d",
   "metadata": {},
   "outputs": [
    {
     "name": "stdout",
     "output_type": "stream",
     "text": [
      "[vcf_to_zarr] 2 rows in 0.00s; chunk in 0.00s (16513 rows/s); 20\u0000:17330\n",
      "[vcf_to_zarr] 4 rows in 0.10s; chunk in 0.10s (20 rows/s); 20\u0000:1230237\n",
      "[vcf_to_zarr] 5 rows in 0.15s; chunk in 0.05s (20 rows/s); 20\u0000:1234567\n",
      "[vcf_to_zarr] all done (26 rows/s)\n"
     ]
    }
   ],
   "source": [
    "# https://scikit-allel.readthedocs.io/en/latest/io.html#allel.vcf_to_zarr\n",
    "# http://alimanfoo.github.io/2016/09/21/genotype-compression-benchmark.html\n",
    "allel.vcf_to_zarr(response.raw, \n",
    "                  fname_simple_zarr, \n",
    "                  fields=\"*\", \n",
    "                  compressor=numcodecs.Blosc(cname='zstd', clevel=1, shuffle=False), \n",
    "                  chunk_length=2,\n",
    "                  chunk_width=1,\n",
    "                  log=sys.stdout, \n",
    "                  overwrite=True)"
   ]
  },
  {
   "cell_type": "code",
   "execution_count": 7,
   "id": "be1f5b27-c9a4-4964-a122-e986ef6d1098",
   "metadata": {},
   "outputs": [],
   "source": [
    "callset = zarr.open_group(fname_simple_zarr, mode=\"r\")"
   ]
  },
  {
   "cell_type": "code",
   "execution_count": 8,
   "id": "328c9c82-7fc7-4f1e-9feb-03780ae49df8",
   "metadata": {},
   "outputs": [
    {
     "data": {
      "text/plain": [
       "<zarr.hierarchy.Group '/' read-only>"
      ]
     },
     "execution_count": 8,
     "metadata": {},
     "output_type": "execute_result"
    }
   ],
   "source": [
    "callset"
   ]
  },
  {
   "cell_type": "code",
   "execution_count": 10,
   "id": "c573dcae-5718-41d0-8da0-a551a478652a",
   "metadata": {},
   "outputs": [
    {
     "data": {
      "text/plain": [
       "<zarr.core.Array '/samples' (3,) object read-only>"
      ]
     },
     "execution_count": 10,
     "metadata": {},
     "output_type": "execute_result"
    }
   ],
   "source": [
    "callset[\"samples\"]"
   ]
  },
  {
   "cell_type": "code",
   "execution_count": 11,
   "id": "a8716347-dd4a-4979-8c6c-729d705f6827",
   "metadata": {},
   "outputs": [
    {
     "data": {
      "text/plain": [
       "array(['NA00001', 'NA00002', 'NA00003'], dtype=object)"
      ]
     },
     "execution_count": 11,
     "metadata": {},
     "output_type": "execute_result"
    }
   ],
   "source": [
    "callset[\"samples\"][:]"
   ]
  },
  {
   "cell_type": "code",
   "execution_count": 12,
   "id": "f7ca88ca-fc6b-4763-a953-cfd232ecb3f4",
   "metadata": {},
   "outputs": [
    {
     "data": {
      "text/plain": [
       "<zarr.core.Array '/calldata/GT' (5, 3, 2) int8 read-only>"
      ]
     },
     "execution_count": 12,
     "metadata": {},
     "output_type": "execute_result"
    }
   ],
   "source": [
    "callset[\"calldata/GT\"]"
   ]
  },
  {
   "cell_type": "code",
   "execution_count": 13,
   "id": "be54208e-73f3-415c-bb27-6f26f689bb52",
   "metadata": {},
   "outputs": [],
   "source": [
    "gt = callset[\"calldata/GT\"]"
   ]
  },
  {
   "cell_type": "code",
   "execution_count": 14,
   "id": "23970668-5426-4530-b19c-91f76fcd1e9d",
   "metadata": {},
   "outputs": [
    {
     "data": {
      "text/plain": [
       "array([[0, 0],\n",
       "       [1, 0],\n",
       "       [1, 1]], dtype=int8)"
      ]
     },
     "execution_count": 14,
     "metadata": {},
     "output_type": "execute_result"
    }
   ],
   "source": [
    "gt[0]"
   ]
  },
  {
   "cell_type": "code",
   "execution_count": 15,
   "id": "ab2239cd-c2c4-4913-9a3c-05e18d37a52d",
   "metadata": {},
   "outputs": [
    {
     "data": {
      "text/html": [
       "<div class=\"allel allel-DisplayAs2D\"><span>&lt;GenotypeArray shape=(5, 3, 2) dtype=int8&gt;</span><table><thead><tr><th></th><th style=\"text-align: center\">0</th><th style=\"text-align: center\">1</th><th style=\"text-align: center\">2</th></tr></thead><tbody><tr><th style=\"text-align: center; background-color: white; border-right: 1px solid black; \">0</th><td style=\"text-align: center\">0/0</td><td style=\"text-align: center\">1/0</td><td style=\"text-align: center\">1/1</td></tr><tr><th style=\"text-align: center; background-color: white; border-right: 1px solid black; \">1</th><td style=\"text-align: center\">0/0</td><td style=\"text-align: center\">0/1</td><td style=\"text-align: center\">0/0</td></tr><tr><th style=\"text-align: center; background-color: white; border-right: 1px solid black; \">2</th><td style=\"text-align: center\">1/2</td><td style=\"text-align: center\">2/1</td><td style=\"text-align: center\">2/2</td></tr><tr><th style=\"text-align: center; background-color: white; border-right: 1px solid black; \">3</th><td style=\"text-align: center\">0/0</td><td style=\"text-align: center\">0/0</td><td style=\"text-align: center\">0/0</td></tr><tr><th style=\"text-align: center; background-color: white; border-right: 1px solid black; \">4</th><td style=\"text-align: center\">0/1</td><td style=\"text-align: center\">0/2</td><td style=\"text-align: center\">1/1</td></tr></tbody></table></div>"
      ],
      "text/plain": [
       "<GenotypeArray shape=(5, 3, 2) dtype=int8>\n",
       "0/0 1/0 1/1\n",
       "0/0 0/1 0/0\n",
       "1/2 2/1 2/2\n",
       "0/0 0/0 0/0\n",
       "0/1 0/2 1/1"
      ]
     },
     "execution_count": 15,
     "metadata": {},
     "output_type": "execute_result"
    }
   ],
   "source": [
    "allel.GenotypeArray(callset['calldata/GT'])"
   ]
  },
  {
   "cell_type": "code",
   "execution_count": 16,
   "id": "ce8ff8e1-b117-4e09-ba21-4e2492a501ad",
   "metadata": {},
   "outputs": [],
   "source": [
    "simple_da = da.from_zarr(os.path.join(fname_simple_zarr, \"calldata/GT/\"))"
   ]
  },
  {
   "cell_type": "code",
   "execution_count": 17,
   "id": "4d56673c-e990-4308-943a-cb5e062c1b0c",
   "metadata": {},
   "outputs": [
    {
     "data": {
      "text/html": [
       "<table>\n",
       "    <tr>\n",
       "        <td>\n",
       "            <table>\n",
       "                <thead>\n",
       "                    <tr>\n",
       "                        <td> </td>\n",
       "                        <th> Array </th>\n",
       "                        <th> Chunk </th>\n",
       "                    </tr>\n",
       "                </thead>\n",
       "                <tbody>\n",
       "                    \n",
       "                    <tr>\n",
       "                        <th> Bytes </th>\n",
       "                        <td> 30 B </td>\n",
       "                        <td> 4 B </td>\n",
       "                    </tr>\n",
       "                    \n",
       "                    <tr>\n",
       "                        <th> Shape </th>\n",
       "                        <td> (5, 3, 2) </td>\n",
       "                        <td> (2, 1, 2) </td>\n",
       "                    </tr>\n",
       "                    <tr>\n",
       "                        <th> Count </th>\n",
       "                        <td> 10 Tasks </td>\n",
       "                        <td> 9 Chunks </td>\n",
       "                    </tr>\n",
       "                    <tr>\n",
       "                    <th> Type </th>\n",
       "                    <td> int8 </td>\n",
       "                    <td> numpy.ndarray </td>\n",
       "                    </tr>\n",
       "                </tbody>\n",
       "            </table>\n",
       "        </td>\n",
       "        <td>\n",
       "        <svg width=\"178\" height=\"192\" style=\"stroke:rgb(0,0,0);stroke-width:1\" >\n",
       "\n",
       "  <!-- Horizontal lines -->\n",
       "  <line x1=\"10\" y1=\"0\" x2=\"80\" y2=\"70\" style=\"stroke-width:2\" />\n",
       "  <line x1=\"10\" y1=\"24\" x2=\"80\" y2=\"94\" />\n",
       "  <line x1=\"10\" y1=\"48\" x2=\"80\" y2=\"118\" />\n",
       "  <line x1=\"10\" y1=\"72\" x2=\"80\" y2=\"142\" style=\"stroke-width:2\" />\n",
       "\n",
       "  <!-- Vertical lines -->\n",
       "  <line x1=\"10\" y1=\"0\" x2=\"10\" y2=\"72\" style=\"stroke-width:2\" />\n",
       "  <line x1=\"38\" y1=\"28\" x2=\"38\" y2=\"100\" />\n",
       "  <line x1=\"66\" y1=\"56\" x2=\"66\" y2=\"128\" />\n",
       "  <line x1=\"80\" y1=\"70\" x2=\"80\" y2=\"142\" style=\"stroke-width:2\" />\n",
       "\n",
       "  <!-- Colored Rectangle -->\n",
       "  <polygon points=\"10.0,0.0 80.58823529411765,70.58823529411765 80.58823529411765,142.58823529411765 10.0,72.0\" style=\"fill:#ECB172A0;stroke-width:0\"/>\n",
       "\n",
       "  <!-- Horizontal lines -->\n",
       "  <line x1=\"10\" y1=\"0\" x2=\"58\" y2=\"0\" style=\"stroke-width:2\" />\n",
       "  <line x1=\"38\" y1=\"28\" x2=\"86\" y2=\"28\" />\n",
       "  <line x1=\"66\" y1=\"56\" x2=\"114\" y2=\"56\" />\n",
       "  <line x1=\"80\" y1=\"70\" x2=\"128\" y2=\"70\" style=\"stroke-width:2\" />\n",
       "\n",
       "  <!-- Vertical lines -->\n",
       "  <line x1=\"10\" y1=\"0\" x2=\"80\" y2=\"70\" style=\"stroke-width:2\" />\n",
       "  <line x1=\"58\" y1=\"0\" x2=\"128\" y2=\"70\" style=\"stroke-width:2\" />\n",
       "\n",
       "  <!-- Colored Rectangle -->\n",
       "  <polygon points=\"10.0,0.0 58.0,0.0 128.58823529411765,70.58823529411765 80.58823529411765,70.58823529411765\" style=\"fill:#ECB172A0;stroke-width:0\"/>\n",
       "\n",
       "  <!-- Horizontal lines -->\n",
       "  <line x1=\"80\" y1=\"70\" x2=\"128\" y2=\"70\" style=\"stroke-width:2\" />\n",
       "  <line x1=\"80\" y1=\"94\" x2=\"128\" y2=\"94\" />\n",
       "  <line x1=\"80\" y1=\"118\" x2=\"128\" y2=\"118\" />\n",
       "  <line x1=\"80\" y1=\"142\" x2=\"128\" y2=\"142\" style=\"stroke-width:2\" />\n",
       "\n",
       "  <!-- Vertical lines -->\n",
       "  <line x1=\"80\" y1=\"70\" x2=\"80\" y2=\"142\" style=\"stroke-width:2\" />\n",
       "  <line x1=\"128\" y1=\"70\" x2=\"128\" y2=\"142\" style=\"stroke-width:2\" />\n",
       "\n",
       "  <!-- Colored Rectangle -->\n",
       "  <polygon points=\"80.58823529411765,70.58823529411765 128.58823529411765,70.58823529411765 128.58823529411765,142.58823529411765 80.58823529411765,142.58823529411765\" style=\"fill:#ECB172A0;stroke-width:0\"/>\n",
       "\n",
       "  <!-- Text -->\n",
       "  <text x=\"104.588235\" y=\"162.588235\" font-size=\"1.0rem\" font-weight=\"100\" text-anchor=\"middle\" >2</text>\n",
       "  <text x=\"148.588235\" y=\"106.588235\" font-size=\"1.0rem\" font-weight=\"100\" text-anchor=\"middle\" transform=\"rotate(0,148.588235,106.588235)\">3</text>\n",
       "  <text x=\"35.294118\" y=\"127.294118\" font-size=\"1.0rem\" font-weight=\"100\" text-anchor=\"middle\" transform=\"rotate(45,35.294118,127.294118)\">5</text>\n",
       "</svg>\n",
       "        </td>\n",
       "    </tr>\n",
       "</table>"
      ],
      "text/plain": [
       "dask.array<from-zarr, shape=(5, 3, 2), dtype=int8, chunksize=(2, 1, 2), chunktype=numpy.ndarray>"
      ]
     },
     "execution_count": 17,
     "metadata": {},
     "output_type": "execute_result"
    }
   ],
   "source": [
    "simple_da"
   ]
  },
  {
   "cell_type": "code",
   "execution_count": 18,
   "id": "92a5fd9a-8cc6-46d3-85f8-bbb188874432",
   "metadata": {},
   "outputs": [
    {
     "data": {
      "text/plain": [
       "array([[0, 0],\n",
       "       [1, 0],\n",
       "       [1, 1]], dtype=int8)"
      ]
     },
     "execution_count": 18,
     "metadata": {},
     "output_type": "execute_result"
    }
   ],
   "source": [
    "simple_da[0].compute()"
   ]
  },
  {
   "cell_type": "code",
   "execution_count": 19,
   "id": "97d0aac3-700b-43ca-b8d0-663bdd183438",
   "metadata": {},
   "outputs": [],
   "source": [
    "allele_dosage = da.apply_along_axis(np.sum, -1, simple_da)"
   ]
  },
  {
   "cell_type": "code",
   "execution_count": 20,
   "id": "951e86ce-a1ec-4ac2-a3b1-1c9ebd012e3d",
   "metadata": {},
   "outputs": [
    {
     "data": {
      "text/html": [
       "<table>\n",
       "    <tr>\n",
       "        <td>\n",
       "            <table>\n",
       "                <thead>\n",
       "                    <tr>\n",
       "                        <td> </td>\n",
       "                        <th> Array </th>\n",
       "                        <th> Chunk </th>\n",
       "                    </tr>\n",
       "                </thead>\n",
       "                <tbody>\n",
       "                    \n",
       "                    <tr>\n",
       "                        <th> Bytes </th>\n",
       "                        <td> 120 B </td>\n",
       "                        <td> 16 B </td>\n",
       "                    </tr>\n",
       "                    \n",
       "                    <tr>\n",
       "                        <th> Shape </th>\n",
       "                        <td> (5, 3) </td>\n",
       "                        <td> (2, 1) </td>\n",
       "                    </tr>\n",
       "                    <tr>\n",
       "                        <th> Count </th>\n",
       "                        <td> 19 Tasks </td>\n",
       "                        <td> 9 Chunks </td>\n",
       "                    </tr>\n",
       "                    <tr>\n",
       "                    <th> Type </th>\n",
       "                    <td> int64 </td>\n",
       "                    <td> numpy.ndarray </td>\n",
       "                    </tr>\n",
       "                </tbody>\n",
       "            </table>\n",
       "        </td>\n",
       "        <td>\n",
       "        <svg width=\"122\" height=\"170\" style=\"stroke:rgb(0,0,0);stroke-width:1\" >\n",
       "\n",
       "  <!-- Horizontal lines -->\n",
       "  <line x1=\"0\" y1=\"0\" x2=\"72\" y2=\"0\" style=\"stroke-width:2\" />\n",
       "  <line x1=\"0\" y1=\"48\" x2=\"72\" y2=\"48\" />\n",
       "  <line x1=\"0\" y1=\"96\" x2=\"72\" y2=\"96\" />\n",
       "  <line x1=\"0\" y1=\"120\" x2=\"72\" y2=\"120\" style=\"stroke-width:2\" />\n",
       "\n",
       "  <!-- Vertical lines -->\n",
       "  <line x1=\"0\" y1=\"0\" x2=\"0\" y2=\"120\" style=\"stroke-width:2\" />\n",
       "  <line x1=\"24\" y1=\"0\" x2=\"24\" y2=\"120\" />\n",
       "  <line x1=\"48\" y1=\"0\" x2=\"48\" y2=\"120\" />\n",
       "  <line x1=\"72\" y1=\"0\" x2=\"72\" y2=\"120\" style=\"stroke-width:2\" />\n",
       "\n",
       "  <!-- Colored Rectangle -->\n",
       "  <polygon points=\"0.0,0.0 72.0,0.0 72.0,120.0 0.0,120.0\" style=\"fill:#ECB172A0;stroke-width:0\"/>\n",
       "\n",
       "  <!-- Text -->\n",
       "  <text x=\"36.000000\" y=\"140.000000\" font-size=\"1.0rem\" font-weight=\"100\" text-anchor=\"middle\" >3</text>\n",
       "  <text x=\"92.000000\" y=\"60.000000\" font-size=\"1.0rem\" font-weight=\"100\" text-anchor=\"middle\" transform=\"rotate(0,92.000000,60.000000)\">5</text>\n",
       "</svg>\n",
       "        </td>\n",
       "    </tr>\n",
       "</table>"
      ],
      "text/plain": [
       "dask.array<sum-along-axis, shape=(5, 3), dtype=int64, chunksize=(2, 1), chunktype=numpy.ndarray>"
      ]
     },
     "execution_count": 20,
     "metadata": {},
     "output_type": "execute_result"
    }
   ],
   "source": [
    "allele_dosage"
   ]
  },
  {
   "cell_type": "code",
   "execution_count": 21,
   "id": "d279ded7-4526-4fb3-939f-1bbb105a8a6c",
   "metadata": {},
   "outputs": [
    {
     "data": {
      "text/plain": [
       "array([[0, 1, 2],\n",
       "       [0, 1, 0],\n",
       "       [3, 3, 4],\n",
       "       [0, 0, 0],\n",
       "       [1, 2, 2]])"
      ]
     },
     "execution_count": 21,
     "metadata": {},
     "output_type": "execute_result"
    }
   ],
   "source": [
    "allele_dosage[:].compute()"
   ]
  },
  {
   "cell_type": "code",
   "execution_count": null,
   "id": "ab5f90aa-0d8f-4f6b-af16-8c93e8371014",
   "metadata": {},
   "outputs": [],
   "source": []
  }
 ],
 "metadata": {
  "kernelspec": {
   "display_name": "Python 3 (ipykernel)",
   "language": "python",
   "name": "python3"
  },
  "language_info": {
   "codemirror_mode": {
    "name": "ipython",
    "version": 3
   },
   "file_extension": ".py",
   "mimetype": "text/x-python",
   "name": "python",
   "nbconvert_exporter": "python",
   "pygments_lexer": "ipython3",
   "version": "3.9.6"
  }
 },
 "nbformat": 4,
 "nbformat_minor": 5
}
